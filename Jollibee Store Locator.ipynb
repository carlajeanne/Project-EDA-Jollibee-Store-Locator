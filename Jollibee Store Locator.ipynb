{
  "cells": [
    {
      "cell_type": "code",
      "execution_count": null,
      "metadata": {
        "colab": {
          "base_uri": "https://localhost:8080/"
        },
        "id": "3gbTC0bVDSCB",
        "outputId": "33a89347-7620-4c28-a080-8214d86c02ba"
      },
      "outputs": [
        {
          "name": "stdout",
          "output_type": "stream",
          "text": [
            "Collecting pyspark\n",
            "  Downloading pyspark-3.5.1.tar.gz (317.0 MB)\n",
            "\u001b[2K     \u001b[90m━━━━━━━━━━━━━━━━━━━━━━━━━━━━━━━━━━━━━━━━\u001b[0m \u001b[32m317.0/317.0 MB\u001b[0m \u001b[31m3.3 MB/s\u001b[0m eta \u001b[36m0:00:00\u001b[0m\n",
            "\u001b[?25h  Preparing metadata (setup.py) ... \u001b[?25l\u001b[?25hdone\n",
            "Requirement already satisfied: py4j==0.10.9.7 in /usr/local/lib/python3.10/dist-packages (from pyspark) (0.10.9.7)\n",
            "Building wheels for collected packages: pyspark\n",
            "  Building wheel for pyspark (setup.py) ... \u001b[?25l\u001b[?25hdone\n",
            "  Created wheel for pyspark: filename=pyspark-3.5.1-py2.py3-none-any.whl size=317488491 sha256=88194ae99652b63c84614c529b78f0e0476f0ae705deb23dcac1435707db1dcc\n",
            "  Stored in directory: /root/.cache/pip/wheels/80/1d/60/2c256ed38dddce2fdd93be545214a63e02fbd8d74fb0b7f3a6\n",
            "Successfully built pyspark\n",
            "Installing collected packages: pyspark\n",
            "Successfully installed pyspark-3.5.1\n"
          ]
        }
      ],
      "source": [
        "!pip install pyspark"
      ]
    },
    {
      "cell_type": "code",
      "execution_count": null,
      "metadata": {
        "id": "47CNIxwjNBLf"
      },
      "outputs": [],
      "source": [
        "!apt-get install openjdk-8-jdk-headless -qq > /dev/null\n",
        "!wget -q https://archive.apache.org/dist/spark/spark-3.1.2/spark-3.1.2-bin-hadoop2.7.tgz\n",
        "!tar xf spark-3.1.2-bin-hadoop2.7.tgz\n",
        "!pip install -q findspark\n",
        "\n",
        "import os\n",
        "os.environ[\"JAVA_HOME\"] = \"/usr/lib/jvm/java-8-openjdk-amd64\"\n",
        "os.environ[\"SPARK_HOME\"] = \"/content/spark-3.1.2-bin-hadoop2.7\"\n",
        "\n",
        "import findspark\n",
        "findspark.init()"
      ]
    },
    {
      "cell_type": "code",
      "execution_count": null,
      "metadata": {
        "colab": {
          "background_save": true,
          "base_uri": "https://localhost:8080/",
          "height": 38
        },
        "id": "4mMJk63sN_SK",
        "outputId": "1b684532-e533-4e3c-f741-4a8fe35729ec"
      },
      "outputs": [
        {
          "data": {
            "text/html": [
              "\n",
              "     <input type=\"file\" id=\"files-c99a0e9b-9b68-4479-9096-6c052a0f5395\" name=\"files[]\" multiple disabled\n",
              "        style=\"border:none\" />\n",
              "     <output id=\"result-c99a0e9b-9b68-4479-9096-6c052a0f5395\">\n",
              "      Upload widget is only available when the cell has been executed in the\n",
              "      current browser session. Please rerun this cell to enable.\n",
              "      </output>\n",
              "      <script>// Copyright 2017 Google LLC\n",
              "//\n",
              "// Licensed under the Apache License, Version 2.0 (the \"License\");\n",
              "// you may not use this file except in compliance with the License.\n",
              "// You may obtain a copy of the License at\n",
              "//\n",
              "//      http://www.apache.org/licenses/LICENSE-2.0\n",
              "//\n",
              "// Unless required by applicable law or agreed to in writing, software\n",
              "// distributed under the License is distributed on an \"AS IS\" BASIS,\n",
              "// WITHOUT WARRANTIES OR CONDITIONS OF ANY KIND, either express or implied.\n",
              "// See the License for the specific language governing permissions and\n",
              "// limitations under the License.\n",
              "\n",
              "/**\n",
              " * @fileoverview Helpers for google.colab Python module.\n",
              " */\n",
              "(function(scope) {\n",
              "function span(text, styleAttributes = {}) {\n",
              "  const element = document.createElement('span');\n",
              "  element.textContent = text;\n",
              "  for (const key of Object.keys(styleAttributes)) {\n",
              "    element.style[key] = styleAttributes[key];\n",
              "  }\n",
              "  return element;\n",
              "}\n",
              "\n",
              "// Max number of bytes which will be uploaded at a time.\n",
              "const MAX_PAYLOAD_SIZE = 100 * 1024;\n",
              "\n",
              "function _uploadFiles(inputId, outputId) {\n",
              "  const steps = uploadFilesStep(inputId, outputId);\n",
              "  const outputElement = document.getElementById(outputId);\n",
              "  // Cache steps on the outputElement to make it available for the next call\n",
              "  // to uploadFilesContinue from Python.\n",
              "  outputElement.steps = steps;\n",
              "\n",
              "  return _uploadFilesContinue(outputId);\n",
              "}\n",
              "\n",
              "// This is roughly an async generator (not supported in the browser yet),\n",
              "// where there are multiple asynchronous steps and the Python side is going\n",
              "// to poll for completion of each step.\n",
              "// This uses a Promise to block the python side on completion of each step,\n",
              "// then passes the result of the previous step as the input to the next step.\n",
              "function _uploadFilesContinue(outputId) {\n",
              "  const outputElement = document.getElementById(outputId);\n",
              "  const steps = outputElement.steps;\n",
              "\n",
              "  const next = steps.next(outputElement.lastPromiseValue);\n",
              "  return Promise.resolve(next.value.promise).then((value) => {\n",
              "    // Cache the last promise value to make it available to the next\n",
              "    // step of the generator.\n",
              "    outputElement.lastPromiseValue = value;\n",
              "    return next.value.response;\n",
              "  });\n",
              "}\n",
              "\n",
              "/**\n",
              " * Generator function which is called between each async step of the upload\n",
              " * process.\n",
              " * @param {string} inputId Element ID of the input file picker element.\n",
              " * @param {string} outputId Element ID of the output display.\n",
              " * @return {!Iterable<!Object>} Iterable of next steps.\n",
              " */\n",
              "function* uploadFilesStep(inputId, outputId) {\n",
              "  const inputElement = document.getElementById(inputId);\n",
              "  inputElement.disabled = false;\n",
              "\n",
              "  const outputElement = document.getElementById(outputId);\n",
              "  outputElement.innerHTML = '';\n",
              "\n",
              "  const pickedPromise = new Promise((resolve) => {\n",
              "    inputElement.addEventListener('change', (e) => {\n",
              "      resolve(e.target.files);\n",
              "    });\n",
              "  });\n",
              "\n",
              "  const cancel = document.createElement('button');\n",
              "  inputElement.parentElement.appendChild(cancel);\n",
              "  cancel.textContent = 'Cancel upload';\n",
              "  const cancelPromise = new Promise((resolve) => {\n",
              "    cancel.onclick = () => {\n",
              "      resolve(null);\n",
              "    };\n",
              "  });\n",
              "\n",
              "  // Wait for the user to pick the files.\n",
              "  const files = yield {\n",
              "    promise: Promise.race([pickedPromise, cancelPromise]),\n",
              "    response: {\n",
              "      action: 'starting',\n",
              "    }\n",
              "  };\n",
              "\n",
              "  cancel.remove();\n",
              "\n",
              "  // Disable the input element since further picks are not allowed.\n",
              "  inputElement.disabled = true;\n",
              "\n",
              "  if (!files) {\n",
              "    return {\n",
              "      response: {\n",
              "        action: 'complete',\n",
              "      }\n",
              "    };\n",
              "  }\n",
              "\n",
              "  for (const file of files) {\n",
              "    const li = document.createElement('li');\n",
              "    li.append(span(file.name, {fontWeight: 'bold'}));\n",
              "    li.append(span(\n",
              "        `(${file.type || 'n/a'}) - ${file.size} bytes, ` +\n",
              "        `last modified: ${\n",
              "            file.lastModifiedDate ? file.lastModifiedDate.toLocaleDateString() :\n",
              "                                    'n/a'} - `));\n",
              "    const percent = span('0% done');\n",
              "    li.appendChild(percent);\n",
              "\n",
              "    outputElement.appendChild(li);\n",
              "\n",
              "    const fileDataPromise = new Promise((resolve) => {\n",
              "      const reader = new FileReader();\n",
              "      reader.onload = (e) => {\n",
              "        resolve(e.target.result);\n",
              "      };\n",
              "      reader.readAsArrayBuffer(file);\n",
              "    });\n",
              "    // Wait for the data to be ready.\n",
              "    let fileData = yield {\n",
              "      promise: fileDataPromise,\n",
              "      response: {\n",
              "        action: 'continue',\n",
              "      }\n",
              "    };\n",
              "\n",
              "    // Use a chunked sending to avoid message size limits. See b/62115660.\n",
              "    let position = 0;\n",
              "    do {\n",
              "      const length = Math.min(fileData.byteLength - position, MAX_PAYLOAD_SIZE);\n",
              "      const chunk = new Uint8Array(fileData, position, length);\n",
              "      position += length;\n",
              "\n",
              "      const base64 = btoa(String.fromCharCode.apply(null, chunk));\n",
              "      yield {\n",
              "        response: {\n",
              "          action: 'append',\n",
              "          file: file.name,\n",
              "          data: base64,\n",
              "        },\n",
              "      };\n",
              "\n",
              "      let percentDone = fileData.byteLength === 0 ?\n",
              "          100 :\n",
              "          Math.round((position / fileData.byteLength) * 100);\n",
              "      percent.textContent = `${percentDone}% done`;\n",
              "\n",
              "    } while (position < fileData.byteLength);\n",
              "  }\n",
              "\n",
              "  // All done.\n",
              "  yield {\n",
              "    response: {\n",
              "      action: 'complete',\n",
              "    }\n",
              "  };\n",
              "}\n",
              "\n",
              "scope.google = scope.google || {};\n",
              "scope.google.colab = scope.google.colab || {};\n",
              "scope.google.colab._files = {\n",
              "  _uploadFiles,\n",
              "  _uploadFilesContinue,\n",
              "};\n",
              "})(self);\n",
              "</script> "
            ],
            "text/plain": [
              "<IPython.core.display.HTML object>"
            ]
          },
          "metadata": {},
          "output_type": "display_data"
        },
        {
          "ename": "TypeError",
          "evalue": "'NoneType' object is not subscriptable",
          "output_type": "error",
          "traceback": [
            "\u001b[0;31m---------------------------------------------------------------------------\u001b[0m",
            "\u001b[0;31mTypeError\u001b[0m                                 Traceback (most recent call last)",
            "\u001b[0;32m<ipython-input-3-e2a1ac27db44>\u001b[0m in \u001b[0;36m<cell line: 6>\u001b[0;34m()\u001b[0m\n\u001b[1;32m      4\u001b[0m \u001b[0;34m\u001b[0m\u001b[0m\n\u001b[1;32m      5\u001b[0m \u001b[0;32mfrom\u001b[0m \u001b[0mgoogle\u001b[0m\u001b[0;34m.\u001b[0m\u001b[0mcolab\u001b[0m \u001b[0;32mimport\u001b[0m \u001b[0mfiles\u001b[0m\u001b[0;34m\u001b[0m\u001b[0;34m\u001b[0m\u001b[0m\n\u001b[0;32m----> 6\u001b[0;31m \u001b[0muploaded\u001b[0m \u001b[0;34m=\u001b[0m \u001b[0mfiles\u001b[0m\u001b[0;34m.\u001b[0m\u001b[0mupload\u001b[0m\u001b[0;34m(\u001b[0m\u001b[0;34m)\u001b[0m\u001b[0;34m\u001b[0m\u001b[0;34m\u001b[0m\u001b[0m\n\u001b[0m\u001b[1;32m      7\u001b[0m \u001b[0;34m\u001b[0m\u001b[0m\n\u001b[1;32m      8\u001b[0m \u001b[0mjollibee_df\u001b[0m \u001b[0;34m=\u001b[0m \u001b[0mspark\u001b[0m\u001b[0;34m.\u001b[0m\u001b[0mread\u001b[0m\u001b[0;34m.\u001b[0m\u001b[0mcsv\u001b[0m\u001b[0;34m(\u001b[0m\u001b[0;34m\"/content/jollibee.csv\"\u001b[0m\u001b[0;34m,\u001b[0m \u001b[0mheader\u001b[0m\u001b[0;34m=\u001b[0m\u001b[0;32mTrue\u001b[0m\u001b[0;34m,\u001b[0m \u001b[0minferSchema\u001b[0m\u001b[0;34m=\u001b[0m\u001b[0;32mTrue\u001b[0m\u001b[0;34m)\u001b[0m\u001b[0;34m\u001b[0m\u001b[0;34m\u001b[0m\u001b[0m\n",
            "\u001b[0;32m/usr/local/lib/python3.10/dist-packages/google/colab/files.py\u001b[0m in \u001b[0;36mupload\u001b[0;34m()\u001b[0m\n\u001b[1;32m     67\u001b[0m   \"\"\"\n\u001b[1;32m     68\u001b[0m \u001b[0;34m\u001b[0m\u001b[0m\n\u001b[0;32m---> 69\u001b[0;31m   \u001b[0muploaded_files\u001b[0m \u001b[0;34m=\u001b[0m \u001b[0m_upload_files\u001b[0m\u001b[0;34m(\u001b[0m\u001b[0mmultiple\u001b[0m\u001b[0;34m=\u001b[0m\u001b[0;32mTrue\u001b[0m\u001b[0;34m)\u001b[0m\u001b[0;34m\u001b[0m\u001b[0;34m\u001b[0m\u001b[0m\n\u001b[0m\u001b[1;32m     70\u001b[0m   \u001b[0;31m# Mapping from original filename to filename as saved locally.\u001b[0m\u001b[0;34m\u001b[0m\u001b[0;34m\u001b[0m\u001b[0m\n\u001b[1;32m     71\u001b[0m   \u001b[0mlocal_filenames\u001b[0m \u001b[0;34m=\u001b[0m \u001b[0mdict\u001b[0m\u001b[0;34m(\u001b[0m\u001b[0;34m)\u001b[0m\u001b[0;34m\u001b[0m\u001b[0;34m\u001b[0m\u001b[0m\n",
            "\u001b[0;32m/usr/local/lib/python3.10/dist-packages/google/colab/files.py\u001b[0m in \u001b[0;36m_upload_files\u001b[0;34m(multiple)\u001b[0m\n\u001b[1;32m    161\u001b[0m   \u001b[0mfiles\u001b[0m \u001b[0;34m=\u001b[0m \u001b[0m_collections\u001b[0m\u001b[0;34m.\u001b[0m\u001b[0mdefaultdict\u001b[0m\u001b[0;34m(\u001b[0m\u001b[0mbytes\u001b[0m\u001b[0;34m)\u001b[0m\u001b[0;34m\u001b[0m\u001b[0;34m\u001b[0m\u001b[0m\n\u001b[1;32m    162\u001b[0m \u001b[0;34m\u001b[0m\u001b[0m\n\u001b[0;32m--> 163\u001b[0;31m   \u001b[0;32mwhile\u001b[0m \u001b[0mresult\u001b[0m\u001b[0;34m[\u001b[0m\u001b[0;34m'action'\u001b[0m\u001b[0;34m]\u001b[0m \u001b[0;34m!=\u001b[0m \u001b[0;34m'complete'\u001b[0m\u001b[0;34m:\u001b[0m\u001b[0;34m\u001b[0m\u001b[0;34m\u001b[0m\u001b[0m\n\u001b[0m\u001b[1;32m    164\u001b[0m     result = _output.eval_js(\n\u001b[1;32m    165\u001b[0m         'google.colab._files._uploadFilesContinue(\"{output_id}\")'.format(\n",
            "\u001b[0;31mTypeError\u001b[0m: 'NoneType' object is not subscriptable"
          ]
        }
      ],
      "source": [
        "from pyspark.sql import SparkSession\n",
        "\n",
        "spark = SparkSession.builder.appName(\"JollibeeData\").getOrCreate()\n",
        "\n",
        "from google.colab import files\n",
        "uploaded = files.upload()\n",
        "\n",
        "jollibee_df = spark.read.csv(\"/content/jollibee.csv\", header=True, inferSchema=True)\n",
        "\n",
        "jollibee_df.show()"
      ]
    },
    {
      "cell_type": "markdown",
      "metadata": {
        "id": "Iqp_76QVkQbu"
      },
      "source": [
        "RDD"
      ]
    },
    {
      "cell_type": "code",
      "execution_count": null,
      "metadata": {
        "id": "CI6KBYVJMTAB"
      },
      "outputs": [],
      "source": [
        "jlb_rdd = jollibee_df.rdd"
      ]
    },
    {
      "cell_type": "code",
      "execution_count": null,
      "metadata": {
        "colab": {
          "base_uri": "https://localhost:8080/"
        },
        "collapsed": true,
        "id": "rInh_5LbcFDH",
        "outputId": "addcf100-c6f9-4b08-9419-15798e26c3b5"
      },
      "outputs": [
        {
          "data": {
            "text/plain": [
              "['Bogo',\n",
              " 'Danao,',\n",
              " 'Cebu',\n",
              " 'Bacolod',\n",
              " 'Bacolod',\n",
              " 'Bacolod',\n",
              " 'Bacolod',\n",
              " 'Bacolod',\n",
              " 'Liloan',\n",
              " 'Cebu',\n",
              " 'Consolacion,',\n",
              " 'Cebu',\n",
              " 'Cebu',\n",
              " 'Mandaue',\n",
              " 'Cebu',\n",
              " 'Mandaue',\n",
              " 'Mandaue',\n",
              " 'Cebu',\n",
              " 'Cebu',\n",
              " 'Cebu']"
            ]
          },
          "execution_count": 115,
          "metadata": {},
          "output_type": "execute_result"
        }
      ],
      "source": [
        "# flatMap each value in the city that contains 2 words\n",
        "words_rdd = jlb_rdd.flatMap(lambda row: row['city'].split())\n",
        "\n",
        "# Output\n",
        "words_rdd.take(20)"
      ]
    },
    {
      "cell_type": "code",
      "execution_count": null,
      "metadata": {
        "colab": {
          "base_uri": "https://localhost:8080/"
        },
        "collapsed": true,
        "id": "5PbHDhJNcfkd",
        "outputId": "cec9f6a6-260f-4de9-948d-3f38896f58d6"
      },
      "outputs": [
        {
          "data": {
            "text/plain": [
              "[('Bogo', 'Cebu', 'Bright Bee 2018 Foods Inc'),\n",
              " ('Danao, Cebu', 'Cebu', 'Knotsberry Foods Corporation'),\n",
              " ('Bacolod', 'Negros Occidental', 'Freemont Foods Corporation'),\n",
              " ('Bacolod', 'Negros Occidental', 'Neo Foods Corp.'),\n",
              " ('Bacolod', 'Negros Occidental', 'Neo Foods Corp.'),\n",
              " ('Bacolod', 'Negros Occidental', 'Freemont Foods Corporation'),\n",
              " ('Bacolod', 'Negros Occidental', 'Neo Foods Corp.'),\n",
              " ('Liloan', 'Cebu', 'Bright Bee 2018 Foods Inc'),\n",
              " ('Cebu', 'Cebu', 'Freemont Foods Corporation'),\n",
              " ('Consolacion, Cebu', 'Cebu', 'Golden Lion Foods (Consolacion) Group'),\n",
              " ('Cebu', 'Cebu', 'Freemont Foods Corporation'),\n",
              " ('Mandaue', 'Cebu', 'Topfood Casuntingan Corporation'),\n",
              " ('Cebu', 'Cebu', 'Freemont Foods Corporation'),\n",
              " ('Mandaue', 'Cebu', 'Freemont Foods Corporation'),\n",
              " ('Mandaue', 'Cebu', 'Balete Foods Corporation'),\n",
              " ('Cebu', 'Cebu', 'Freemont Foods Corporation'),\n",
              " ('Cebu', 'Cebu', 'Freemont Foods Corporation'),\n",
              " ('Cebu', 'Cebu', 'Freemont Foods Corporation'),\n",
              " ('Cebu', 'Cebu', 'Freemont Foods Corporation'),\n",
              " ('Mandaue', 'Cebu', 'Platinum Foods Corp.'),\n",
              " ('Cebu', 'Cebu', 'Freemont Foods Corporation'),\n",
              " ('Cebu', 'Cebu', 'Freemont Foods Corporation'),\n",
              " ('Cebu', 'Cebu', 'Freemont Foods Corporation'),\n",
              " ('Cebu', 'Cebu', 'Freemont Foods Corporation'),\n",
              " ('Lapu-Lapu, Philippines', 'Cebu', 'Freemont Foods Corporation'),\n",
              " ('Lapu-Lapu, Philippines', 'Cebu', 'Grandeur Foods Corp'),\n",
              " ('Cebu', 'Cebu', 'Freemont Foods Corporation'),\n",
              " ('Cebu', 'Cebu', 'Freemont Foods Corporation'),\n",
              " ('Talisay city', 'Cebu', 'Freemont Foods Corporation'),\n",
              " ('Minglanilla', 'Cebu', 'Freemont Foods Corporation'),\n",
              " ('Lapu-Lapu, Philippines', 'Cebu', 'Freemont Foods Corporation'),\n",
              " ('Minglanilla', 'Cebu', 'Freemont Foods Corporation'),\n",
              " ('Lapu-Lapu, Philippines', 'Cebu', 'Topfood Mactan Corporation'),\n",
              " ('Lapu-Lapu, Philippines', 'Cebu', 'Freemont Foods Corporation'),\n",
              " ('Roxas', 'Capiz', 'Jolly Baybay Corporation'),\n",
              " ('Roxas', 'Capiz', 'Jolly Baybay Corporation'),\n",
              " (' Ormoc Leyte', 'Leyte', 'Trigs Foods Corp.'),\n",
              " ('Carcar', 'Cebu', 'Jolly-Bogo Inc.'),\n",
              " ('Iloilo City', 'Iloilo', 'Freemont Foods Corporation'),\n",
              " ('Iloilo City', 'Iloilo', 'Freemont Foods Corporation'),\n",
              " ('Iloilo City', 'Iloilo', 'Jollibest Fastfood Corporation'),\n",
              " ('Pavia', 'Iloilo', 'Ascon Food Corporation'),\n",
              " ('Iloilo City', 'Iloilo', 'SG Food Concepts, Inc.'),\n",
              " ('Iloilo City', 'Iloilo', 'Gotan Foods Corporation'),\n",
              " ('Masbate City', 'Masbate', 'Freemont Foods Corporation'),\n",
              " ('Palo, Leyte', 'Leyte', 'Freemont Foods Corporation'),\n",
              " ('Tacloban', 'Leyte', 'Wrigs Foods Corporation'),\n",
              " ('Tacloban', 'Leyte', 'SARC Foods Corp.'),\n",
              " ('Tagbilaran', 'Bohol', 'Roast and Toast Foodline Inc.'),\n",
              " ('Tagbilaran', 'Bohol', 'Rose En Honey Foodline Inc'),\n",
              " ('Panglao', 'Bohol', 'Roast and Toast Foodline, Inc.'),\n",
              " ('San Jose de Buenavista', 'Antique', 'Freemont Foods Corporation'),\n",
              " ('Tanjay', 'Negros Oriental', 'Freemont Foods Corporation'),\n",
              " ('Sorsogon City', 'Sorsogon', 'First Staple Food Source (FS2), Corp.'),\n",
              " ('Dumaguete', 'Negros Oriental', 'Freemont Foods Corporation'),\n",
              " ('Dumaguete', 'Negros Occidental', '1110 Food Corp.'),\n",
              " ('Legazpi, Albay', 'Albay', 'Freemont Foods Corporation'),\n",
              " ('Legazpi, Albay', 'Albay', 'Freemont Foods Corporation'),\n",
              " ('Daraga', 'Albay', 'Freemont Foods Corporation'),\n",
              " ('Pili, Camarines Sur', 'Camarines Sur', 'Freemont Foods Corporation'),\n",
              " ('Naga', 'Camarines Sur', 'Freemont Foods Corporation'),\n",
              " ('Opol', 'Misamis Oriental', 'Freemont Foods Corporation'),\n",
              " ('Cagayan de Oro', 'Misamis Oriental', 'Freemont Foods Corporation'),\n",
              " ('Cagayan de Oro', 'Misamis Oriental', 'Freemont Foods Corporation'),\n",
              " ('Cagayan de Oro', 'Misamis Oriental', 'Westmin Food Chain Corporation'),\n",
              " ('Cagayan de Oro', 'Misamis Oriental', 'Westmin Food Chain Corporation'),\n",
              " ('Cagayan de Oro', 'Misamis Oriental', 'Xavier Square Corporation'),\n",
              " ('Butuan', 'Agusan Del Norte', 'Freemont Foods Corporation'),\n",
              " ('Butuan', 'Agusan Del Norte', 'Freemont Foods Corporation'),\n",
              " ('Ozamiz', 'Misamis Occidental', 'Freemont Foods Corporation'),\n",
              " ('Calapan', 'Oriental Mindoro', 'Jollibee Foods Corporation'),\n",
              " ('Calapan', 'Oriental Mindoro', 'Jollibee Foods Corporation'),\n",
              " ('Pagadian', 'Zamboanga del Sur', 'Uni-Chan, Inc.'),\n",
              " ('Malaybalay', 'Bukidnon', 'Malaybalay Super Bee Foods Corp.'),\n",
              " ('Lucena, Philippines', 'Quezon', 'Jollibee Foods Corporation'),\n",
              " ('Lucena, Philippines', 'Quezon', 'Jollibee Foods Corporation'),\n",
              " ('San juan', 'Batangas', 'Premier Restofoods Corp.'),\n",
              " ('Sariaya', 'Quezon', 'Jollibee Foods Corporation'),\n",
              " ('Candelaria', 'Quezon', 'Jollibee Foods Corporation'),\n",
              " ('Ipil', 'Zamboanga Sibugay', 'Freemont Foods Corporation'),\n",
              " ('Lucban', 'Quezon', 'Platino De Estrella Corporation'),\n",
              " ('Rosario, Batangas', 'Batangas', 'Boomtown Food Haven Corp.'),\n",
              " ('Batangas City', 'Batangas', 'Jollibee Foods Corporation'),\n",
              " ('Batangas City', 'Batangas', 'Jollibee Foods Corporation'),\n",
              " ('Bauan', 'Batangas', 'Jollibee Foods Corporation'),\n",
              " ('San Pablo', 'Laguna', 'Stiltoncheese Food Exchange'),\n",
              " ('San Pablo', 'Laguna', 'Jollibee Foods Corporation'),\n",
              " ('Lipa', 'Batangas', 'Jollibee Foods Corporation'),\n",
              " ('San Pablo', 'Laguna', 'Jollibee Foods Corporation'),\n",
              " ('Lipa', 'Batangas', 'Jollibee Foods Corporation'),\n",
              " ('Lipa', 'Batangas', 'Villfood Corporation'),\n",
              " ('Santo Tomas', 'Batangas', 'Padre Pio LTK Food Corp.'),\n",
              " ('Bay, Laguna', 'Laguna', 'Jollibee Foods Corporation'),\n",
              " ('Tanauan', 'Batangas', 'Jollibee Foods Corporation'),\n",
              " ('Santa Cruz, Laguna', 'Laguna', 'Jollibee Foods Corporation'),\n",
              " ('Lemery', 'Batangas', 'Jollibee Foods Corporation'),\n",
              " ('Los Ba�os', 'Laguna', 'Jollibee Foods Corporation'),\n",
              " ('Lemery', 'Batangas', 'Jollibee Foods Corporation'),\n",
              " ('Santo Tomas', 'Batangas', 'Jollibee Foods Corporation'),\n",
              " ('Calamba', 'Laguna', 'Jollibee Foods Corporation'),\n",
              " ('Calamba', 'Laguna', 'Jollibee Foods Corporation'),\n",
              " ('Siniloan', 'Laguna', 'Jollibee Foods Corporation'),\n",
              " ('Cabuyao', 'Laguna', 'Jollibee Foods Corporation'),\n",
              " ('Calamba', 'Laguna', '22 MSTAR Ventures Inc.'),\n",
              " ('Tagaytay', 'Cavite', 'Jollibee Foods Corporation'),\n",
              " ('Tagaytay', 'Cavite', 'Tagaytay Havenstar Foods Corporation'),\n",
              " ('Cabuyao', 'Laguna', 'Jollibee Foods Corporation'),\n",
              " ('Santa Rosa', 'Laguna', 'Jollibee Foods Corporation'),\n",
              " ('Santa Rosa', 'Laguna', 'WN Food Corporation'),\n",
              " ('Santa Rosa', 'Laguna', '1110 Food Corp.'),\n",
              " ('Santa Rosa', 'Laguna', '8547 Food Corporation'),\n",
              " ('Santa Rosa', 'Laguna', 'Jollibee Foods Corporation'),\n",
              " ('Silang, Cavite', 'Cavite', 'George and Nikoy G Foods Corp.'),\n",
              " ('Carmona', 'Cavite', 'Grand Carmona Fastfood Corp.'),\n",
              " ('Bi�an', 'Laguna', 'Jendrew Food Exchange Corporation'),\n",
              " ('Tanay, Rizal', 'RIZAL', 'Jollibee Foods Corporation'),\n",
              " ('General Mariano Alvarez', 'Cavite', 'Jollibee Foods Corporation'),\n",
              " ('General Mariano Alvarez', 'Cavite', 'Grand Carmona Fastfood Corp.'),\n",
              " ('San Pedro City', 'Laguna', 'King HH Foods Corp'),\n",
              " ('Indang', 'Cavite', 'Indang Tri L Foods corporation'),\n",
              " ('San Pedro', 'Laguna', 'Ambee Foods Services, Inc'),\n",
              " ('Dasmari�as', 'Cavite', 'One Aphetusa Dream Food Corporation'),\n",
              " ('Dasmari�as', 'Cavite', 'Jollibee Foods Corporation'),\n",
              " ('Muntinlupa', 'NCR', 'South Foodworks Philippines Inc.'),\n",
              " ('General Trias, Cavite', 'Cavite', 'Jollibee Foods Corporation'),\n",
              " ('Dasmari�as', 'Cavite', 'Grandeza Premier Foods Incorporation'),\n",
              " ('Dasmari�as', 'Cavite', 'Eddie G Foods Corp.'),\n",
              " ('Muntinlupa', 'NCR', 'Progresso Fastfood Inc.'),\n",
              " ('Trece Martires', 'Cavite', 'Extremelee Fastfoods Corporation'),\n",
              " ('Trece Martires', 'Cavite', 'Trece Ideal Foods corp.'),\n",
              " ('Dasmari�as', 'Cavite', 'Extremelee Fastfoods Corporation'),\n",
              " ('Bacoor', 'Cavite', 'Cuisine Ala More Inc.'),\n",
              " ('Muntinlupa', 'NCR', 'Jollibee Foods Corporation'),\n",
              " ('Teresa', 'RIZAL', 'Jollibee Foods Corporation'),\n",
              " ('Angono', 'RIZAL', 'Jollibee Foods Corporation'),\n",
              " ('Imus', 'Cavite', 'HappyLee Food Corp.'),\n",
              " ('Las Pi�as', 'NCR', 'Jollibee Foods Corporation'),\n",
              " ('Imus', 'Cavite', 'Grand Carmona Fastfood Corp.'),\n",
              " ('Bacoor', 'Cavite', 'Jollibee Foods Corporation'),\n",
              " ('Las Pi�as', 'NCR', 'Jollibee Foods Corporation'),\n",
              " ('Para�aque', 'NCR', 'Jollibee Foods Corporation'),\n",
              " ('Las Pi�as', 'NCR', 'DEKAHAVEN FOODS CORPORATION'),\n",
              " ('Taguig', 'NCR', 'Jollibee Foods Corporation'),\n",
              " ('Imus', 'Cavite', 'Jollibee Foods Corporation'),\n",
              " ('Antipolo', 'RIZAL', 'Jollibee Foods Corporation'),\n",
              " ('Las Pi�as', 'NCR', 'Chickie-Sarap Foods Corporation'),\n",
              " ('Bacoor', 'Cavite', 'Jollibee Foods Corporation'),\n",
              " ('Para�aque', 'NCR', 'Jollibee Foods Corporation'),\n",
              " ('Para�aque', 'NCR', 'Royal Betterliving Food Express Inc.'),\n",
              " ('Bacoor', 'Cavite', 'Twin Light Food Choices Inc.'),\n",
              " ('Taytay', 'RIZAL', 'Jollibee Foods Corporation'),\n",
              " ('Imus', 'Cavite', 'United 7A Corp.'),\n",
              " ('Las Pi�as', 'NCR', 'Haricot Corporation'),\n",
              " ('Taguig', 'NCR', 'Haricot Corporation'),\n",
              " ('Imus', 'Cavite', 'Nueno Imus Food Incorporation'),\n",
              " ('Las Pi�as', 'NCR', 'Jollibee Foods Corporation'),\n",
              " ('Taytay', 'RIZAL', 'Uptown Connection Food Exchange Inc.'),\n",
              " ('Para�aque', 'NCR', 'Chanbee Food Corporation'),\n",
              " ('Taguig', 'NCR', 'Jollibee Foods Corporation'),\n",
              " ('Taguig', 'NCR', 'Jollibee Foods Corporation'),\n",
              " ('Taguig', 'NCR', 'Eclectus Food Ventures Corporation'),\n",
              " ('Imus', 'Cavite', 'United 7A Corp.'),\n",
              " ('General Trias', 'Cavite', 'Superb Fast Foods Corp.'),\n",
              " ('Para�aque', 'NCR', 'Jollibee Foods Corporation'),\n",
              " ('Cainta', 'RIZAL', 'Jollibee Foods Corporation'),\n",
              " ('Las Pi�as', 'NCR', 'Jollibee Foods Corporation'),\n",
              " ('Bacoor', 'Cavite', 'PJL Foods Corporation'),\n",
              " ('Cainta', 'RIZAL', 'Alngoc Corp.'),\n",
              " ('Taguig', 'NCR', 'Honeystar Corporation'),\n",
              " ('Pateros, Metro Manila', 'NCR', 'PROGATE FOODS INC.'),\n",
              " ('Pasig', 'NCR', 'Prodynamic Inc.'),\n",
              " ('Antipolo', 'RIZAL', 'Fortune Bee Foods Corporation'),\n",
              " ('Makati', 'NCR', 'Berkshire  Corporation'),\n",
              " ('Para�aque', 'NCR', 'Jollibee Foods Corporation'),\n",
              " ('General Trias, Cavite', 'Cavite', 'Jollibee Foods Corporation'),\n",
              " ('Pasig', 'NCR', '\"Julie \"\"G\"\" Foods Corporation\"'),\n",
              " ('Pasig', 'NCR', '\"Eliana \"\"G\"\" Foods Corporation\"'),\n",
              " ('Naic', 'Cavite', 'Cian Highway Food Corp.'),\n",
              " ('Kawit, Cavite', 'Cavite', 'Jollibee Foods Corporation'),\n",
              " ('Imus', 'Cavite', 'GPO Gahak Uptown Corporation'),\n",
              " ('Pasig', 'NCR', 'Jollibee Foods Corporation'),\n",
              " ('Makati', 'NCR', 'Ocho Tesoros Corporation'),\n",
              " ('Taguig', 'NCR', 'Jollibee Foods Corporation'),\n",
              " ('Rosario, Batangas', 'Cavite', 'Platinode Calamba Inc.'),\n",
              " ('Pasig', 'NCR', 'Expediaserve Food Corporation'),\n",
              " ('Taguig', 'NCR', 'Berkshire  Corporation'),\n",
              " ('Pasig', 'NCR', 'Belarverde Foods Corporation'),\n",
              " ('Pasig', 'NCR', 'K88 Food Services'),\n",
              " ('Pasig', 'NCR', 'Haricot Corporation'),\n",
              " ('Makati', 'NCR', 'ALNGOC Corp.'),\n",
              " ('Mandaluyong', 'NCR', 'My Sheri Burgers Inc.'),\n",
              " ('Para�aque', 'NCR', '17 Queenbee Foods Corporation'),\n",
              " ('Mandaluyong', 'NCR', 'WHENINORTIGAS INC.'),\n",
              " ('Pasig', 'NCR', '4S Hiranand Food Corporation'),\n",
              " ('Mandaluyong', 'NCR', 'Metro Jolly Food Corporation'),\n",
              " ('Makati', 'NCR', 'Chantilly Nutriment Corp.'),\n",
              " ('Mandaluyong', 'NCR', 'HONEYSPRING CORPORATION'),\n",
              " ('Makati', 'NCR', 'OM Shanti Foods Corporation'),\n",
              " ('Makati', 'NCR', 'Bonzer Foods Corporation'),\n",
              " ('Pasay', 'NCR', 'KNC Group'),\n",
              " ('Antipolo', 'RIZAL', 'Potrero Verde Foods Corp.'),\n",
              " ('Makati', 'NCR', 'Sharmila Food Center Inc.'),\n",
              " ('Quezon City', 'NCR', 'Jollibee Foods Corporation'),\n",
              " ('Pasay', 'NCR', 'Jollibee Foods Corporation'),\n",
              " ('Pasay', 'NCR', 'Jollibee Foods Corporation'),\n",
              " ('Pasay', 'NCR', 'Hanspete Food Corporation'),\n",
              " ('Mandaluyong', 'NCR', 'FREUDIG FOOD CONCEPTS, INC.'),\n",
              " ('Makati', 'NCR', 'RBT Group'),\n",
              " ('Mandaluyong', 'NCR', 'Jollibee Foods Corporation'),\n",
              " ('Pasig', 'NCR', 'Berkshire Corporation'),\n",
              " ('Makati', 'NCR', 'Bongreat Foods Corporation'),\n",
              " ('Cavite City', 'Cavite', 'Jollibee Foods Corporation'),\n",
              " ('Makati', 'NCR', 'Marseille Food Services Inc'),\n",
              " ('Marikina', 'NCR', 'Manila Merchants Food Industries, Inc.'),\n",
              " ('San Juan', 'NCR', 'Great Foods Corporation'),\n",
              " ('Manila', 'NCR', \"Lucky Bee's Foods Corporation\"),\n",
              " ('San Juan', 'NCR', 'Berkshire  Corporation'),\n",
              " ('MANDALUYONG', 'NCR', 'GOLD SUNRISE FOODS CORPORATION'),\n",
              " ('Manila', 'NCR', 'Grand View ATJB Corporation'),\n",
              " ('Marikina', 'NCR', 'Eldrich Foods Corporation'),\n",
              " ('Quezon City', 'NCR', 'Avirga Enterprises, Inc.'),\n",
              " ('Manila', 'NCR', 'Cyclonos Food Services Inc.'),\n",
              " ('Manila', 'NCR', 'Jollibee Foods Corporation'),\n",
              " ('Marikina', 'NCR', 'Jollibee Foods Corporation'),\n",
              " ('Quezon City', 'NCR', 'Jollibee Foods Corporation'),\n",
              " ('Quezon City', 'NCR', 'CBC Foods Corporation'),\n",
              " ('Manila', 'NCR', '\"Eeboy \"\"G\"\" Foods Corporation\"'),\n",
              " ('Quezon City', 'NCR', 'BERKSHIRE CORPORATION '),\n",
              " ('Quezon City', 'NCR', 'Jollibee Foods Corporation'),\n",
              " ('Quezon City', 'NCR', 'Berkshire Corporation'),\n",
              " ('Manila', 'NCR', 'Parmesan Cheese Food Exchange Inc.'),\n",
              " ('Quezon City', 'NCR', '3Pals Food Corporation'),\n",
              " ('Manila', 'NCR', 'Jollibee Foods Corporation'),\n",
              " ('Manila', 'NCR', 'Jollibee Foods Corporation'),\n",
              " ('Quezon City', 'NCR', 'Opel Foods Corporation'),\n",
              " ('Manila', 'NCR', 'Jollibee Foods Corporation'),\n",
              " ('Quezon City', 'NCR', 'MEGABRAND PHILS. CORP.'),\n",
              " ('Manila', 'NCR', 'Great Aduana Food Exhange Inc.'),\n",
              " ('Manila', 'NCR', 'Newtrends Fastfood Inc.'),\n",
              " ('Manila', 'NCR', 'Trava Foods Corporation'),\n",
              " ('Quezon City', 'NCR', 'Triple L Food Corporation'),\n",
              " ('Quezon City', 'NCR', 'Friacom Foods Corp.'),\n",
              " ('Manila', 'NCR', 'Jetsan Foods Corporation'),\n",
              " ('Quezon City', 'NCR', 'Idealee Foods Venture Incorporated'),\n",
              " ('Quezon City', 'NCR', 'Zenith Holdings Corporation'),\n",
              " ('Quezon City', 'NCR', 'P &S Ventures, Inc.'),\n",
              " ('Quezon City', 'NCR', 'Alls Well Food Corporation'),\n",
              " ('Quezon City', 'NCR', 'Prestoserve Food Corporation'),\n",
              " ('Manila', 'NCR', 'Tomasian Fastfood Corp.'),\n",
              " ('Manila', 'NCR', 'Blinkins Food Corporation'),\n",
              " ('Manila', 'NCR', 'Alverca Cheese Food Exchange Inc.'),\n",
              " ('Quezon City', 'NCR', 'Prime West Fast Food Corp.'),\n",
              " ('Quezon City', 'NCR', 'Mailiw Food Corporation'),\n",
              " ('Quezon City', 'NCR', 'Guru Nanik Food Center Inc.'),\n",
              " ('Manila', 'NCR', '\"Jericho \"\"G\"\" Foods Corporation\"'),\n",
              " ('Rodriguez', 'RIZAL', 'Golden Balete Food Merchants Inc.'),\n",
              " ('Quezon City', 'NCR', 'Elegant Mayon Fast Food Center Inc.'),\n",
              " ('Manila', 'NCR', 'Sydney Food Corporation'),\n",
              " ('Quezon City', 'NCR', 'Jollibee Foods Corporation'),\n",
              " ('Quezon City', 'NCR', 'Berkshire Corporation'),\n",
              " ('Manila', 'NCR', 'Jolly Star Foods Corporation'),\n",
              " ('Quezon City', 'NCR', 'Ear Order Up Inc.'),\n",
              " ('Quezon City', 'NCR', 'Regalado Food Choices Inc.'),\n",
              " ('Quezon City', 'NCR', 'Poquerolles Food Services Inc..'),\n",
              " ('Caloocan', 'NCR', 'Jollibee Foods Corporation'),\n",
              " ('Caloocan', 'NCR', 'Jollibee Foods Corporation'),\n",
              " ('Caloocan', 'NCR', 'PIZZA PASTA FOODS CORPORATION'),\n",
              " ('Quezon City', 'NCR', 'Nova Gen Food Choices Corp.'),\n",
              " ('Valenzuela', 'NCR', 'Jollibee Foods Corporation'),\n",
              " ('Quezon City', 'NCR', 'Castello Foods Inc.'),\n",
              " ('Valenzuela', 'NCR', 'Forza Firenze Food Services, Inc.'),\n",
              " ('Malabon', 'NCR', 'GTWJ Food Corporation'),\n",
              " ('Quezon City', 'NCR', 'Jacare Corporation'),\n",
              " ('Navotas', 'NCR', 'Bloomingrose Food Corporation'),\n",
              " ('Caloocan', 'NCR', 'Veneto Foods Corporation'),\n",
              " ('Valenzuela', 'NCR', 'Jollibee Foods Corporation'),\n",
              " ('Caloocan', 'NCR', 'Grand Oasis Selections Inc.'),\n",
              " ('San Jose Del Monte', 'Bulacan', 'Joey Victoria Foods Corporation'),\n",
              " ('Meycauayan', 'Bulacan', 'Jollibee Foods Corporation'),\n",
              " ('Meycauayan', 'Bulacan', \"Golden Crest Int'L Foods Corp\"),\n",
              " ('San Jose Del Monte', 'Bulacan', 'Joey Rosita Foods Corporation'),\n",
              " ('Meycauayan', 'Bulacan', 'Jollibee Foods Corporation'),\n",
              " ('San Jose Del Monte', 'Bulacan', 'Joey Vicsi’s Food Corporation'),\n",
              " ('Bocaue', 'Bulacan', 'Miracle Foods Corporation'),\n",
              " ('Orani', 'Bataan', \"Yahu and Eeboy 'G' Foods Corporation\"),\n",
              " ('Sta. Maria', 'Bulacan', 'Jollibee Foods Corporation'),\n",
              " ('Zamboanga City', 'Zamboanga Sibugay', 'Freemont Foods Corporation'),\n",
              " ('Sta. Maria', 'Bulacan', 'Clymart Food Corp.'),\n",
              " ('Balagtas', 'Bulacan', 'GG Cundangan Foods Corporation'),\n",
              " ('Zamboanga City', 'Zamboanga Sibugay', 'Freemont Foods Corporation'),\n",
              " ('Zamboanga City', 'Zamboanga Sibugay', 'Freemont Foods Corporation'),\n",
              " ('Davao', 'Davao Del Sur', 'Freemont Foods Corporation'),\n",
              " ('Zamboanga City', 'Zamboanga Sibugay', \"Five A's Corporation\"),\n",
              " ('Talmo', 'Davao Del Sur', 'Freemont Foods Corporation'),\n",
              " ('Davao', 'Davao Del Sur', 'Freemont Foods Corporation'),\n",
              " ('Zamboanga City', 'Zamboanga Sibugay', 'Freemont Foods Corporation'),\n",
              " ('Davao', 'Davao Del Sur', 'Southern Bee Foods Corp.'),\n",
              " ('Angat', 'Bulacan', 'JPCC Foods Corp.'),\n",
              " ('Davao', 'Davao Del Sur', 'Freemont Foods Corporation'),\n",
              " ('Davao', 'Davao Del Sur', 'Freemont Foods Corporation'),\n",
              " ('Davao', 'Davao Del Sur', 'Jolly A Foods Corp'),\n",
              " ('Davao', 'Davao Del Sur', 'Freemont Foods Corporation'),\n",
              " ('Guiguinto', 'Bulacan', 'Jollibee Foods Corporation'),\n",
              " ('Orion', 'Bataan', 'Catalina and Isaac G Foods Corp.'),\n",
              " ('Malolos', 'Bulacan', 'Jollibee Foods Corporation'),\n",
              " ('Malolos', 'Bulacan', 'Jollibee Foods Corporation'),\n",
              " ('Pulilan', 'Bulacan', 'Berkshire Corporation'),\n",
              " ('Bustos', 'Bulacan', '5Joys Corporation'),\n",
              " ('Baliuag', 'Bulacan', 'Joey Mackee Foods Corporation'),\n",
              " ('Baliuag', 'Bulacan', \"Joey's Food Corporation\"),\n",
              " ('Orani', 'Bataan', \"Eddie and Yahu 'G' Food Corporation\"),\n",
              " ('San Miguel', 'Bulacan', 'Baliuag Foods Corporation'),\n",
              " ('Apalit', 'Pampanga', 'Jollibee Foods Corporation'),\n",
              " ('Orani', 'Bataan', \"Eduardo 'G' Foods Corporation\"),\n",
              " ('San Jose Del Monte', 'Bulacan', 'Joey Amelita Foods Corporation'),\n",
              " ('Guagua', 'Pampanga', 'Line One Foods Corporation'),\n",
              " ('San Fernando', 'Pampanga', 'Jolly Palate Foods Corporation'),\n",
              " ('Orani', 'Bataan', \"Jericho and Diojani 'G' Foods Corporation\"),\n",
              " ('Santa Ana', 'Pampanga', 'Starline Foods Corporation'),\n",
              " ('San Fernando', 'Pampanga', 'Jollibee Foods Corporation'),\n",
              " ('Koronadal', 'South Cotabato', 'Array Food Corporation'),\n",
              " ('Floridablanca', 'Pampanga', 'Gentle Line Foods Corporation'),\n",
              " ('Arayat', 'Pampanga', 'EMT Food Haven Corporation'),\n",
              " ('Gapan', 'Nueva Ecija', 'Fountain of Milk and Honey Food Corporation'),\n",
              " ('Olongapo', 'Zambales', 'Marinel Foods Corporation'),\n",
              " ('Olongapo', 'Zambales', 'Upline Foods Corporation'),\n",
              " ('Angeles', 'Pampanga', 'Tan Food Haven Corporation'),\n",
              " ('Subic', 'Zambales', 'Jollibee Foods Corporation'),\n",
              " ('Magalang', 'Pampanga', 'Golden Concepcion Foods Corp'),\n",
              " ('Angeles', 'Pampanga', 'Line Ten Foods Corporation'),\n",
              " ('Mabalacat', 'Pampanga', 'Byron Food Stuff Corporation-1'),\n",
              " ('Angeles', 'Pampanga', 'Quarterline Foods Corporation'),\n",
              " ('Puerto Princesa', 'Palawan', 'Palawan Jolly Foods Corp'),\n",
              " ('Puerto Princesa', 'Palawan', 'Freemont Foods Corporation'),\n",
              " ('Angeles', 'Pampanga', 'Quarterline Foods Corporation'),\n",
              " ('Mabalacat', 'Pampanga', 'Golden Concepcion Foods Corporation'),\n",
              " ('Cabanatuan', 'Nueva Ecija', 'Jollibee Foods Corporation'),\n",
              " ('Cabanatuan', 'Nueva Ecija', 'Jollibee Foods Corporation'),\n",
              " ('Concepcion', 'Tarlac', 'Golden Concepcion Foods Corporation'),\n",
              " ('Tarlac', 'Tarlac', 'Jollibee Foods Corporation'),\n",
              " ('Tarlac', 'Tarlac', 'Neonorth Food Group, Inc.'),\n",
              " ('General Santos', 'South Cotabato', 'JB Makar Fastfood, Inc.'),\n",
              " ('General Santos', 'South Cotabato', 'Gensan Quality Cuisine Inc.'),\n",
              " ('General Santos', 'South Cotabato', 'Premium Taste Trender, Inc.'),\n",
              " ('Tarlac', 'Tarlac', 'Jollibee Foods Corp.'),\n",
              " ('Paniqui', 'Tarlac', 'Jollibee Foods Corporation'),\n",
              " ('Iba', 'Zambales', 'Jollibee Foods Corporation'),\n",
              " ('Camiling', 'Tarlac', 'Jolly Camiling Foods Corporation'),\n",
              " ('Urdaneta', 'Pangasinan', 'Jollibee Foods Corporation'),\n",
              " ('Binalonan', 'Pangasinan', 'Jollibee Foods Corporation'),\n",
              " ('San Carlos', 'Pangasinan', 'MagicDelight Inc.'),\n",
              " ('Calasiao', 'Pangasinan', 'Great Zest Corporation'),\n",
              " ('Mangaldan', 'Pangasinan', 'Foodmagic Inc.'),\n",
              " ('Dagupan', 'Pangasinan', 'Bushel Bee Corporation'),\n",
              " ('Dagupan', 'Pangasinan', 'Jollibee Foods Corporation'),\n",
              " ('Dagupan', 'Pangasinan', 'Dagupan Multibee Corporation'),\n",
              " ('Bayombong', 'Nueva Vizcaya', 'Jollibee Foods Corporation'),\n",
              " ('Solano', 'Nueva Vizcaya', 'Jollibee Foods Corporation'),\n",
              " ('Lingayen', 'Pangasinan', 'Yen Nee Bee Foods Corporation'),\n",
              " ('Santiago', 'Isabela', 'Jollibee Foods Corporation'),\n",
              " ('Baguio', 'Benguet', 'Nidel Country Line Foods Corporation'),\n",
              " ('Baguio', 'Benguet', 'Jollibee Foods Corporation'),\n",
              " ('Baguio', 'Benguet', 'Jollibee Foods Corporation'),\n",
              " ('Baguio', 'Benguet', 'Jollibee Foods Corporation'),\n",
              " ('Baguio', 'Benguet', 'Gracious Food Corporation'),\n",
              " ('Cauayan', 'Isabela', 'Jollibee Foods Corporation'),\n",
              " ('La Trinidad', 'Benguet', 'Jollibee Foods Corporation'),\n",
              " ('Agoo', 'La Union', 'Jollibee Foods Corporation'),\n",
              " ('Alaminos', 'Pangasinan', 'Jollibee Foods Corporation'),\n",
              " ('Ilagan', 'Isabela', 'Jollibee Foods Corporation'),\n",
              " ('San Fernando', 'La Union', 'Jollibee Foods Corporation'),\n",
              " ('San Fernando', 'La Union', 'Jollibee Foods Corporation'),\n",
              " ('Tuguegarao', 'Cagayan', 'Jollibee Foods Corporation'),\n",
              " ('Tuguegarao', 'Cagayan', 'Jollibee Foods Corporation'),\n",
              " ('Tuguegarao', 'Cagayan', 'Jollibee Foods Corporation'),\n",
              " ('Narvacan', 'Ilocos Sur', 'Bonito Food, Inc.'),\n",
              " ('Vigan', 'Ilocos Sur', 'Jolly Vigan Foods Corporation'),\n",
              " ('Aparri', 'Cagayan', 'Jollibee Foods Corporation'),\n",
              " ('Laoag', 'Ilocos Norte', 'Jollibee Foods Corporation')]"
            ]
          },
          "execution_count": 113,
          "metadata": {},
          "output_type": "execute_result"
        }
      ],
      "source": [
        "# Map the dataset to certain column\n",
        "selected_columns_rdd = jlb_rdd.map(lambda row: (row['city'], row['state'], row['franchiseNm']))\n",
        "\n",
        "# Output\n",
        "selected_columns_rdd.collect()"
      ]
    },
    {
      "cell_type": "code",
      "execution_count": null,
      "metadata": {
        "colab": {
          "base_uri": "https://localhost:8080/"
        },
        "id": "VPysXkUfSm1N",
        "outputId": "22942e1b-cdc8-43c4-807f-c6495f4183b1"
      },
      "outputs": [
        {
          "name": "stdout",
          "output_type": "stream",
          "text": [
            "There are 120 Jollibee stores within the NCR in the Philippines\n"
          ]
        }
      ],
      "source": [
        "# Filter the value of state\n",
        "jlb_metromanila = jlb_rdd.filter(lambda row: row['state'] == \"NCR\")\n",
        "\n",
        "# Output\n",
        "print(\"There are\", jlb_metromanila.count(), \"Jollibee stores within the NCR in the Philippines\")"
      ]
    },
    {
      "cell_type": "code",
      "execution_count": null,
      "metadata": {
        "colab": {
          "base_uri": "https://localhost:8080/"
        },
        "id": "Fo_2jIe2ixA3",
        "outputId": "799b25be-daad-4217-ffda-6be3b08e3c5c"
      },
      "outputs": [
        {
          "name": "stdout",
          "output_type": "stream",
          "text": [
            "The 'Jollibee Foods Corporation' has the most branches in the NCR with 30 occurrences.\n"
          ]
        }
      ],
      "source": [
        "# Map the value of franchiseNm\n",
        "franchise_rdd = jlb_metromanila.map(lambda row: row['franchiseNm'])\n",
        "\n",
        "# Map each value to a tuple\n",
        "franchise_tuples = franchise_rdd.map(lambda value: (value, 1))\n",
        "\n",
        "# Reduce by key to count occurrences of each value\n",
        "franchise_counts = franchise_tuples.reduceByKey(lambda a, b: a + b)\n",
        "\n",
        "# Find the most frequent value\n",
        "most_frequent_value = franchise_counts.max(key=lambda x: x[1])\n",
        "\n",
        "# Output\n",
        "print(f\"The '{most_frequent_value[0]}' has the most branches in the NCR with {most_frequent_value[1]} occurrences.\")"
      ]
    },
    {
      "cell_type": "code",
      "execution_count": null,
      "metadata": {
        "colab": {
          "base_uri": "https://localhost:8080/"
        },
        "id": "83ka4ZsWnvB2",
        "outputId": "f610a777-1ab4-4ff4-8859-4dd69f56e369"
      },
      "outputs": [
        {
          "data": {
            "text/plain": [
              "[('Jollibee Foods Corporation', 30),\n",
              " ('Haricot Corporation', 3),\n",
              " ('Berkshire  Corporation', 3),\n",
              " ('Berkshire Corporation', 3),\n",
              " ('South Foodworks Philippines Inc.', 1),\n",
              " ('Progresso Fastfood Inc.', 1),\n",
              " ('DEKAHAVEN FOODS CORPORATION', 1),\n",
              " ('Chickie-Sarap Foods Corporation', 1),\n",
              " ('Royal Betterliving Food Express Inc.', 1),\n",
              " ('Chanbee Food Corporation', 1),\n",
              " ('Eclectus Food Ventures Corporation', 1),\n",
              " ('Honeystar Corporation', 1),\n",
              " ('PROGATE FOODS INC.', 1),\n",
              " ('Prodynamic Inc.', 1),\n",
              " ('\"Julie \"\"G\"\" Foods Corporation\"', 1)]"
            ]
          },
          "execution_count": 152,
          "metadata": {},
          "output_type": "execute_result"
        }
      ],
      "source": [
        "# Map the RDD to get the franchise name within the NCR\n",
        "mapped_rdd = franchise_counts.map(lambda x: (x[1], x[0]))\n",
        "\n",
        "# Sort the RDD by key in descending order\n",
        "sorted_rdd = mapped_rdd.sortByKey(ascending=False)\n",
        "\n",
        "# Map the sorted RDD to the final format (franchiseName, frequency)\n",
        "final_rdd = sorted_rdd.map(lambda x: (x[1], x[0]))\n",
        "\n",
        "# Output\n",
        "final_rdd.take(15)"
      ]
    },
    {
      "cell_type": "code",
      "execution_count": null,
      "metadata": {
        "colab": {
          "base_uri": "https://localhost:8080/"
        },
        "collapsed": true,
        "id": "p4_HNpiLpUZk",
        "outputId": "bb4bc917-fb25-41ff-b0f6-ffd678da96b2"
      },
      "outputs": [
        {
          "name": "stdout",
          "output_type": "stream",
          "text": [
            "State: Cebu, City: ['Bogo', 'Danao, Cebu', 'Liloan', 'Cebu', 'Consolacion, Cebu', 'Cebu', 'Mandaue', 'Cebu', 'Mandaue', 'Mandaue', 'Cebu', 'Cebu', 'Cebu', 'Cebu', 'Mandaue', 'Cebu', 'Cebu', 'Cebu', 'Cebu', 'Lapu-Lapu, Philippines', 'Lapu-Lapu, Philippines', 'Cebu', 'Cebu', 'Talisay city', 'Minglanilla', 'Lapu-Lapu, Philippines', 'Minglanilla', 'Lapu-Lapu, Philippines', 'Lapu-Lapu, Philippines', 'Carcar']\n",
            "State: Negros Occidental, City: ['Bacolod', 'Bacolod', 'Bacolod', 'Bacolod', 'Bacolod', 'Dumaguete']\n",
            "State: Capiz, City: ['Roxas', 'Roxas']\n",
            "State: Leyte, City: [' Ormoc Leyte', 'Palo, Leyte', 'Tacloban', 'Tacloban']\n",
            "State: Iloilo, City: ['Iloilo City', 'Iloilo City', 'Iloilo City', 'Pavia', 'Iloilo City', 'Iloilo City']\n",
            "State: Masbate, City: ['Masbate City']\n",
            "State: Bohol, City: ['Tagbilaran', 'Tagbilaran', 'Panglao']\n",
            "State: Antique, City: ['San Jose de Buenavista']\n",
            "State: Negros Oriental, City: ['Tanjay', 'Dumaguete']\n",
            "State: Sorsogon, City: ['Sorsogon City']\n",
            "State: Albay, City: ['Legazpi, Albay', 'Legazpi, Albay', 'Daraga']\n",
            "State: Camarines Sur, City: ['Pili, Camarines Sur', 'Naga']\n",
            "State: Misamis Oriental, City: ['Opol', 'Cagayan de Oro', 'Cagayan de Oro', 'Cagayan de Oro', 'Cagayan de Oro', 'Cagayan de Oro']\n",
            "State: Agusan Del Norte, City: ['Butuan', 'Butuan']\n",
            "State: Misamis Occidental, City: ['Ozamiz']\n",
            "State: Oriental Mindoro, City: ['Calapan', 'Calapan']\n",
            "State: Zamboanga del Sur, City: ['Pagadian']\n",
            "State: Bukidnon, City: ['Malaybalay']\n",
            "State: Quezon, City: ['Lucena, Philippines', 'Lucena, Philippines', 'Sariaya', 'Candelaria', 'Lucban']\n",
            "State: Batangas, City: ['San juan', 'Rosario, Batangas', 'Batangas City', 'Batangas City', 'Bauan', 'Lipa', 'Lipa', 'Lipa', 'Santo Tomas', 'Tanauan', 'Lemery', 'Lemery', 'Santo Tomas']\n",
            "State: Zamboanga Sibugay, City: ['Ipil', 'Zamboanga City', 'Zamboanga City', 'Zamboanga City', 'Zamboanga City', 'Zamboanga City']\n",
            "State: Laguna, City: ['San Pablo', 'San Pablo', 'San Pablo', 'Bay, Laguna', 'Santa Cruz, Laguna', 'Los Ba�os', 'Calamba', 'Calamba', 'Siniloan', 'Cabuyao', 'Calamba', 'Cabuyao', 'Santa Rosa', 'Santa Rosa', 'Santa Rosa', 'Santa Rosa', 'Santa Rosa', 'Bi�an', 'San Pedro City', 'San Pedro']\n",
            "State: Cavite, City: ['Tagaytay', 'Tagaytay', 'Silang, Cavite', 'Carmona', 'General Mariano Alvarez', 'General Mariano Alvarez', 'Indang', 'Dasmari�as', 'Dasmari�as', 'General Trias, Cavite', 'Dasmari�as', 'Dasmari�as', 'Trece Martires', 'Trece Martires', 'Dasmari�as', 'Bacoor', 'Imus', 'Imus', 'Bacoor', 'Imus', 'Bacoor', 'Bacoor', 'Imus', 'Imus', 'Imus', 'General Trias', 'Bacoor', 'General Trias, Cavite', 'Naic', 'Kawit, Cavite', 'Imus', 'Rosario, Batangas', 'Cavite City']\n",
            "State: RIZAL, City: ['Tanay, Rizal', 'Teresa', 'Angono', 'Antipolo', 'Taytay', 'Taytay', 'Cainta', 'Cainta', 'Antipolo', 'Antipolo', 'Rodriguez']\n",
            "State: NCR, City: ['Muntinlupa', 'Muntinlupa', 'Muntinlupa', 'Las Pi�as', 'Las Pi�as', 'Para�aque', 'Las Pi�as', 'Taguig', 'Las Pi�as', 'Para�aque', 'Para�aque', 'Las Pi�as', 'Taguig', 'Las Pi�as', 'Para�aque', 'Taguig', 'Taguig', 'Taguig', 'Para�aque', 'Las Pi�as', 'Taguig', 'Pateros, Metro Manila', 'Pasig', 'Makati', 'Para�aque', 'Pasig', 'Pasig', 'Pasig', 'Makati', 'Taguig', 'Pasig', 'Taguig', 'Pasig', 'Pasig', 'Pasig', 'Makati', 'Mandaluyong', 'Para�aque', 'Mandaluyong', 'Pasig', 'Mandaluyong', 'Makati', 'Mandaluyong', 'Makati', 'Makati', 'Pasay', 'Makati', 'Quezon City', 'Pasay', 'Pasay', 'Pasay', 'Mandaluyong', 'Makati', 'Mandaluyong', 'Pasig', 'Makati', 'Makati', 'Marikina', 'San Juan', 'Manila', 'San Juan', 'MANDALUYONG', 'Manila', 'Marikina', 'Quezon City', 'Manila', 'Manila', 'Marikina', 'Quezon City', 'Quezon City', 'Manila', 'Quezon City', 'Quezon City', 'Quezon City', 'Manila', 'Quezon City', 'Manila', 'Manila', 'Quezon City', 'Manila', 'Quezon City', 'Manila', 'Manila', 'Manila', 'Quezon City', 'Quezon City', 'Manila', 'Quezon City', 'Quezon City', 'Quezon City', 'Quezon City', 'Quezon City', 'Manila', 'Manila', 'Manila', 'Quezon City', 'Quezon City', 'Quezon City', 'Manila', 'Quezon City', 'Manila', 'Quezon City', 'Quezon City', 'Manila', 'Quezon City', 'Quezon City', 'Quezon City', 'Caloocan', 'Caloocan', 'Caloocan', 'Quezon City', 'Valenzuela', 'Quezon City', 'Valenzuela', 'Malabon', 'Quezon City', 'Navotas', 'Caloocan', 'Valenzuela', 'Caloocan']\n",
            "State: Bulacan, City: ['San Jose Del Monte', 'Meycauayan', 'Meycauayan', 'San Jose Del Monte', 'Meycauayan', 'San Jose Del Monte', 'Bocaue', 'Sta. Maria', 'Sta. Maria', 'Balagtas', 'Angat', 'Guiguinto', 'Malolos', 'Malolos', 'Pulilan', 'Bustos', 'Baliuag', 'Baliuag', 'San Miguel', 'San Jose Del Monte']\n",
            "State: Bataan, City: ['Orani', 'Orion', 'Orani', 'Orani', 'Orani']\n",
            "State: Davao Del Sur, City: ['Davao', 'Talmo', 'Davao', 'Davao', 'Davao', 'Davao', 'Davao', 'Davao']\n",
            "State: Pampanga, City: ['Apalit', 'Guagua', 'San Fernando', 'Santa Ana', 'San Fernando', 'Floridablanca', 'Arayat', 'Angeles', 'Magalang', 'Angeles', 'Mabalacat', 'Angeles', 'Angeles', 'Mabalacat']\n",
            "State: South Cotabato, City: ['Koronadal', 'General Santos', 'General Santos', 'General Santos']\n",
            "State: Nueva Ecija, City: ['Gapan', 'Cabanatuan', 'Cabanatuan']\n",
            "State: Zambales, City: ['Olongapo', 'Olongapo', 'Subic', 'Iba']\n",
            "State: Palawan, City: ['Puerto Princesa', 'Puerto Princesa']\n",
            "State: Tarlac, City: ['Concepcion', 'Tarlac', 'Tarlac', 'Tarlac', 'Paniqui', 'Camiling']\n",
            "State: Pangasinan, City: ['Urdaneta', 'Binalonan', 'San Carlos', 'Calasiao', 'Mangaldan', 'Dagupan', 'Dagupan', 'Dagupan', 'Lingayen', 'Alaminos']\n",
            "State: Nueva Vizcaya, City: ['Bayombong', 'Solano']\n",
            "State: Isabela, City: ['Santiago', 'Cauayan', 'Ilagan']\n",
            "State: Benguet, City: ['Baguio', 'Baguio', 'Baguio', 'Baguio', 'Baguio', 'La Trinidad']\n",
            "State: La Union, City: ['Agoo', 'San Fernando', 'San Fernando']\n",
            "State: Cagayan, City: ['Tuguegarao', 'Tuguegarao', 'Tuguegarao', 'Aparri']\n",
            "State: Ilocos Sur, City: ['Narvacan', 'Vigan']\n",
            "State: Ilocos Norte, City: ['Laoag']\n"
          ]
        }
      ],
      "source": [
        "# Map the state and city\n",
        "pair_rdd = jlb_rdd.map(lambda row: ((row['state'], row['city'])))\n",
        "\n",
        "# Group the values by the key\n",
        "grouped_rdd = pair_rdd.groupByKey()\n",
        "\n",
        "# Output\n",
        "for (state), city in grouped_rdd.collect():\n",
        "    print(f\"State: {state}, City: {list(city)}\")"
      ]
    },
    {
      "cell_type": "markdown",
      "metadata": {
        "id": "us58ClFZkNXg"
      },
      "source": [
        "Data  Frame"
      ]
    },
    {
      "cell_type": "code",
      "execution_count": null,
      "metadata": {
        "colab": {
          "base_uri": "https://localhost:8080/"
        },
        "collapsed": true,
        "id": "ky9nOHlMx8R6",
        "outputId": "fd23f422-97f6-43e0-a960-d131d1e95e2f"
      },
      "outputs": [
        {
          "name": "stdout",
          "output_type": "stream",
          "text": [
            "+-------+--------------------+--------------------+--------+---------+--------+--------------+------+---------+\n",
            "|storeID|               alias|         franchiseNm|X24hours|driveThru|delivery|deliveryCharge|pickup|breakfast|\n",
            "+-------+--------------------+--------------------+--------+---------+--------+--------------+------+---------+\n",
            "|    324|       Plaza Central|South Foodworks P...|   false|    false|   false|             0|  true|    false|\n",
            "|     52|    Alabang Junction|Progresso Fastfoo...|   false|     true|    true|             0|  true|    false|\n",
            "|    221|Dasmarinas Centra...|Jollibee Foods Co...|   false|     true|    true|             0|  true|    false|\n",
            "|    160|               Pilar|Jollibee Foods Co...|   false|    false|    true|             0|  true|    false|\n",
            "|    468|    New SM Southmall|Jollibee Foods Co...|   false|    false|    true|             0|  true|    false|\n",
            "|    184|Shopwise Sucat (S...|Jollibee Foods Co...|   false|     true|    true|             0|  true|    false|\n",
            "|    352| Colours Town Center|DEKAHAVEN FOODS C...|   false|    false|    true|             0|  true|    false|\n",
            "|    280|General Santos Av...|Jollibee Foods Co...|   false|    false|    true|             0|  true|    false|\n",
            "|    209|            Casimiro|Chickie-Sarap Foo...|   false|    false|    true|             0|  true|    false|\n",
            "|    246| Parañaque City Hall|Jollibee Foods Co...|   false|    false|    true|             0|  true|    false|\n",
            "+-------+--------------------+--------------------+--------+---------+--------+--------------+------+---------+\n",
            "only showing top 10 rows\n",
            "\n"
          ]
        }
      ],
      "source": [
        "# Filter to get the values within NCR\n",
        "jlb_mm_df = jollibee_df.filter(jollibee_df.state == \"NCR\")\n",
        "\n",
        "# Select columns\n",
        "jlb_group_df = jlb_mm_df.select('storeID','alias', 'franchiseNm', 'X24hours', 'driveThru', 'delivery', 'deliveryCharge', 'pickup', 'breakfast')\n",
        "\n",
        "# Output\n",
        "jlb_group_df.show(10)"
      ]
    },
    {
      "cell_type": "code",
      "execution_count": null,
      "metadata": {
        "colab": {
          "base_uri": "https://localhost:8080/"
        },
        "id": "fp2ipxYkVNr8",
        "outputId": "d8c8f0ed-4a89-4d2a-c975-7a16e8138ce6"
      },
      "outputs": [
        {
          "name": "stdout",
          "output_type": "stream",
          "text": [
            "+-------+--------------------+--------------------+--------+---------+--------+--------------+------+---------+\n",
            "|storeID|               alias|         franchiseNm|X24hours|driveThru|delivery|deliveryCharge|pickup|breakfast|\n",
            "+-------+--------------------+--------------------+--------+---------+--------+--------------+------+---------+\n",
            "|    303|  BGC Triangle Drive|Jollibee Foods Co...|   false|     true|    true|             5|  true|    false|\n",
            "|    121|             Zabarte|Grand Oasis Selec...|   false|    false|    true|             0|  true|    false|\n",
            "|     58| DMMA 1 Ever Gotesco|Alls Well Food Co...|   false|    false|    true|             0|  true|    false|\n",
            "|    825| Shaw Blvd Wack Wack|FREUDIG FOOD CONC...|   false|     true|    true|             0|  true|     true|\n",
            "|    136|San Francisco del...|Guru Nanik Food C...|   false|    false|    true|             0|  true|    false|\n",
            "|    354|   Aglipay Poblacion|GOLD SUNRISE FOOD...|   false|    false|    true|             0|  true|     true|\n",
            "|     84|              Aduana|Great Aduana Food...|   false|    false|    true|             0|  true|    false|\n",
            "|     61|          Valenzuela|Jollibee Foods Co...|   false|    false|    true|             0|  true|    false|\n",
            "|    321|Shell Commonwealt...| Friacom Foods Corp.|   false|     true|    true|             0|  true|    false|\n",
            "|     21|    Marikina Heights|Eldrich Foods Cor...|   false|     true|    true|             0|  true|    false|\n",
            "+-------+--------------------+--------------------+--------+---------+--------+--------------+------+---------+\n",
            "only showing top 10 rows\n",
            "\n"
          ]
        }
      ],
      "source": [
        "# Remove duplicates in the datarame\n",
        "jlb_nodup_df = jlb_group_df.dropDuplicates()\n",
        "\n",
        "# Filter to get branches that have deliveries\n",
        "jlb_delivery_df = jlb_nodup_df.filter(jlb_nodup_df.delivery == 'true')\n",
        "\n",
        "# Order dataframe by deliverycharge\n",
        "delfee_jlb_group_df = jlb_delivery_df.orderBy('deliveryCharge', ascending=False)\n",
        "\n",
        "# Output\n",
        "delfee_jlb_group_df.show(10)"
      ]
    },
    {
      "cell_type": "code",
      "execution_count": null,
      "metadata": {
        "colab": {
          "base_uri": "https://localhost:8080/"
        },
        "id": "eiQfCd59bcLe",
        "outputId": "c8120a33-3d07-498c-a4ce-fb1d77a4f912"
      },
      "outputs": [
        {
          "name": "stdout",
          "output_type": "stream",
          "text": [
            "+--------------------+-----+\n",
            "|                city|count|\n",
            "+--------------------+-----+\n",
            "|         Quezon City|   29|\n",
            "|              Manila|   19|\n",
            "|               Pasig|   10|\n",
            "|              Makati|   10|\n",
            "|              Taguig|    8|\n",
            "|           Las Pi�as|    7|\n",
            "|           Para�aque|    7|\n",
            "|         Mandaluyong|    6|\n",
            "|            Caloocan|    5|\n",
            "|               Pasay|    4|\n",
            "|          Muntinlupa|    3|\n",
            "|          Valenzuela|    3|\n",
            "|            Marikina|    3|\n",
            "|            San Juan|    2|\n",
            "|         MANDALUYONG|    1|\n",
            "|             Malabon|    1|\n",
            "|Pateros, Metro Ma...|    1|\n",
            "|             Navotas|    1|\n",
            "+--------------------+-----+\n",
            "\n"
          ]
        }
      ],
      "source": [
        "most_city_ncr = jlb_mm_df.groupBy('city').count()\n",
        "most_city_ncr.orderBy('count', ascending=False).show()"
      ]
    },
    {
      "cell_type": "code",
      "execution_count": null,
      "metadata": {
        "colab": {
          "base_uri": "https://localhost:8080/"
        },
        "id": "4c1qC3rBiBhU",
        "outputId": "9d2ecb84-8172-4a59-d827-b25eeb3c8bb1"
      },
      "outputs": [
        {
          "name": "stdout",
          "output_type": "stream",
          "text": [
            "+--------------------+-----+\n",
            "|                city|count|\n",
            "+--------------------+-----+\n",
            "|         Quezon City|   29|\n",
            "|              Manila|   19|\n",
            "|               Pasig|   10|\n",
            "|              Makati|   10|\n",
            "|              Taguig|    8|\n",
            "|           Las Pi�as|    7|\n",
            "|           Para�aque|    7|\n",
            "|         Mandaluyong|    6|\n",
            "|            Caloocan|    5|\n",
            "|               Pasay|    4|\n",
            "|            Marikina|    3|\n",
            "|          Valenzuela|    3|\n",
            "|          Muntinlupa|    3|\n",
            "|            San Juan|    2|\n",
            "|         MANDALUYONG|    1|\n",
            "|             Malabon|    1|\n",
            "|Pateros, Metro Ma...|    1|\n",
            "|             Navotas|    1|\n",
            "+--------------------+-----+\n",
            "\n"
          ]
        }
      ],
      "source": [
        "# Create a temporary table\n",
        "jlb_mm_df.createOrReplaceTempView(\"jollibee_ncr\")\n",
        "\n",
        "# SQL query\n",
        "most_city_ncr_sql = \"\"\"   SELECT city, COUNT(*) as count\n",
        "                          FROM jollibee_ncr\n",
        "                          GROUP BY city\n",
        "                          ORDER BY count DESC   \"\"\"\n",
        "\n",
        "# Execution and Output\n",
        "most_city_ncr = spark.sql(most_city_ncr_sql)\n",
        "most_city_ncr.show()"
      ]
    },
    {
      "cell_type": "code",
      "execution_count": null,
      "metadata": {
        "colab": {
          "base_uri": "https://localhost:8080/"
        },
        "id": "PkG3D9Hzl6XW",
        "outputId": "f22203cf-90bc-42a8-eeb6-d80bd8af301c"
      },
      "outputs": [
        {
          "name": "stdout",
          "output_type": "stream",
          "text": [
            "+---+-------+---------+--------------------+---------+-----+---------+----------+--------------+-----------------+--------+---------+--------+---------+------+\n",
            "|_c0|storeId|storeName|         franchiseNm|     city|state| latitude| longitude|deliveryCharge|            alias|X24hours|driveThru|delivery|breakfast|pickup|\n",
            "+---+-------+---------+--------------------+---------+-----+---------+----------+--------------+-----------------+--------+---------+--------+---------+------+\n",
            "|174|    511|   JB-246|Jollibee Foods Co...|Para�aque|  NCR|14.500274|120.996822|             0|Uni Oil Parañaque|    true|     true|    true|     true|  true|\n",
            "+---+-------+---------+--------------------+---------+-----+---------+----------+--------------+-----------------+--------+---------+--------+---------+------+\n",
            "\n"
          ]
        }
      ],
      "source": [
        "# Create a temporary table\n",
        "jlb_mm_df.createOrReplaceTempView(\"jollibee_ncr\")\n",
        "\n",
        "# SQL Query\n",
        "jlb_24hrs_sql = \"\"\"   SELECT *\n",
        "                      FROM jollibee_ncr\n",
        "                      WHERE X24hours == \"true\"\n",
        "                \"\"\"\n",
        "\n",
        "# Execution and Output\n",
        "jlb_24hrs_sql = spark.sql(jlb_24hrs_sql)\n",
        "jlb_24hrs_sql.show()"
      ]
    },
    {
      "cell_type": "code",
      "execution_count": null,
      "metadata": {
        "colab": {
          "base_uri": "https://localhost:8080/"
        },
        "id": "AIoPtK0kv2WQ",
        "outputId": "54250657-db24-416f-8a0a-f512e44153c5"
      },
      "outputs": [
        {
          "name": "stdout",
          "output_type": "stream",
          "text": [
            "42\n"
          ]
        }
      ],
      "source": [
        "# Create a temporary table\n",
        "jlb_mm_df.createOrReplaceTempView(\"jollibee_ncr\")\n",
        "\n",
        "# SQL Query\n",
        "jlb_driveThru_sql = \"\"\"   SELECT *\n",
        "                      FROM jollibee_ncr\n",
        "                      WHERE driveThru == \"true\"\n",
        "                \"\"\"\n",
        "\n",
        "# Execution and Output\n",
        "jlb_driveThru_sql = spark.sql(jlb_driveThru_sql).count()\n",
        "print(jlb_driveThru_sql)"
      ]
    },
    {
      "cell_type": "code",
      "execution_count": null,
      "metadata": {
        "colab": {
          "base_uri": "https://localhost:8080/"
        },
        "id": "kkaARFhrv-p8",
        "outputId": "a4918722-8e36-4323-d81d-f32ca44122ac"
      },
      "outputs": [
        {
          "name": "stdout",
          "output_type": "stream",
          "text": [
            "The city with the most Jollibee stores is Quezon City with 29 stores.\n"
          ]
        }
      ],
      "source": [
        "# Group the DataFrame by 'city' and count the occurrences\n",
        "city_counts = jlb_mm_df.groupBy('city').count()\n",
        "\n",
        "# Order the DataFrame by count in descending order and get the first row (highest count)\n",
        "mode_city = city_counts.orderBy('count', ascending=False).first()\n",
        "\n",
        "# Print the mode city and its count\n",
        "print(f\"The city with the most Jollibee stores is {mode_city['city']} with {mode_city['count']} stores.\")"
      ]
    },
    {
      "cell_type": "code",
      "execution_count": null,
      "metadata": {
        "colab": {
          "base_uri": "https://localhost:8080/"
        },
        "id": "hqiPK7WQY30Y",
        "outputId": "e402d476-edb1-44f8-aa0b-b6409ef757fd"
      },
      "outputs": [
        {
          "name": "stdout",
          "output_type": "stream",
          "text": [
            "+-----------+-----+\n",
            "|       city|count|\n",
            "+-----------+-----+\n",
            "|Mandaluyong|    3|\n",
            "|   Marikina|    1|\n",
            "|      Pasay|    1|\n",
            "|     Taguig|    2|\n",
            "|      Pasig|    4|\n",
            "|  Para�aque|    3|\n",
            "|     Manila|    2|\n",
            "|   San Juan|    1|\n",
            "|Quezon City|   13|\n",
            "| Muntinlupa|    2|\n",
            "|  Las Pi�as|    2|\n",
            "|   Caloocan|    1|\n",
            "|     Makati|    2|\n",
            "+-----------+-----+\n",
            "\n"
          ]
        }
      ],
      "source": [
        "# Filter the DataFrame for branches with pickup, delivery, and drive-thru\n",
        "filtered_df = jlb_mm_df.filter((jlb_mm_df.pickup == 'true') & (jlb_mm_df.delivery == 'true') & (jlb_mm_df.driveThru == 'true'))\n",
        "\n",
        "# Group the filtered DataFrame by 'city' and count the occurrences\n",
        "city_counts = filtered_df.groupBy('city').count()\n",
        "\n",
        "# Display the result\n",
        "city_counts.show()"
      ]
    },
    {
      "cell_type": "code",
      "execution_count": null,
      "metadata": {
        "colab": {
          "base_uri": "https://localhost:8080/"
        },
        "id": "9UhvyBNbabIy",
        "outputId": "72d00079-9785-4bff-9027-06dd1f137a5a"
      },
      "outputs": [
        {
          "name": "stdout",
          "output_type": "stream",
          "text": [
            "+--------------------+-----+\n",
            "|         franchiseNm|count|\n",
            "+--------------------+-----+\n",
            "|\"Eeboy \"\"G\"\" Food...|    1|\n",
            "|Jolly Star Foods ...|    1|\n",
            "|3Pals Food Corpor...|    1|\n",
            "|Lucky Bee's Foods...|    1|\n",
            "|GTWJ Food Corpora...|    1|\n",
            "|Zenith Holdings C...|    1|\n",
            "|   K88 Food Services|    1|\n",
            "|Jollibee Foods Co...|   30|\n",
            "|Veneto Foods Corp...|    1|\n",
            "|Belarverde Foods ...|    1|\n",
            "|Bongreat Foods Co...|    1|\n",
            "|Guru Nanik Food C...|    1|\n",
            "|Chickie-Sarap Foo...|    1|\n",
            "| Castello Foods Inc.|    1|\n",
            "|Hanspete Food Cor...|    1|\n",
            "|Alls Well Food Co...|    1|\n",
            "|Great Aduana Food...|    1|\n",
            "|My Sheri Burgers ...|    1|\n",
            "|           KNC Group|    1|\n",
            "|OM Shanti Foods C...|    1|\n",
            "+--------------------+-----+\n",
            "only showing top 20 rows\n",
            "\n"
          ]
        }
      ],
      "source": [
        "# Group the DataFrame by 'franchiseNm' and count the occurrences\n",
        "franchise_counts = jlb_mm_df.groupBy('franchiseNm').count()\n",
        "\n",
        "# Display the result\n",
        "franchise_counts.show()"
      ]
    }
  ],
  "metadata": {
    "colab": {
      "provenance": []
    },
    "kernelspec": {
      "display_name": "Python 3",
      "name": "python3"
    },
    "language_info": {
      "name": "python"
    }
  },
  "nbformat": 4,
  "nbformat_minor": 0
}